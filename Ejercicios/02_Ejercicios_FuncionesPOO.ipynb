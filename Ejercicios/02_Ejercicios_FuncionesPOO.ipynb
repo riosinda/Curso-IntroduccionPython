{
 "cells": [
  {
   "cell_type": "markdown",
   "metadata": {},
   "source": [
    "## Ejercicios de Práctica"
   ]
  },
  {
   "cell_type": "markdown",
   "metadata": {},
   "source": [
    "### Funciones"
   ]
  },
  {
   "cell_type": "markdown",
   "metadata": {},
   "source": [
    "1. **Calcular el área de un rectángulo**:\n",
    "   - Crea una función llamada `calcular_area_rectangulo()` que reciba dos parámetros: base y altura, y devuelva el área del rectángulo calculado.\n",
    "   - **Salida Esperada**: para una entrada de base 5 y altura 3, la salida sebería ser 15."
   ]
  },
  {
   "cell_type": "code",
   "execution_count": null,
   "metadata": {},
   "outputs": [],
   "source": [
    "#programa aqui:\n"
   ]
  },
  {
   "cell_type": "markdown",
   "metadata": {},
   "source": [
    "2. **Clasificar un triángulo**:\n",
    "   - Crea una función llamada `clasificar_triangulo()` que reciba tres parámetros: lado_a, lado_b y lado_c, y devuelva la clasificación del triángulo según sus lados (equilátero, isósceles, escaleno).\n",
    "   - **Salida Esperada:** Para una entrada de  `clasificar_triangulo(5,5,5)`, debería de dar \"equilátero\"."
   ]
  },
  {
   "cell_type": "code",
   "execution_count": null,
   "metadata": {},
   "outputs": [],
   "source": [
    "#programa aqui:\n"
   ]
  },
  {
   "cell_type": "markdown",
   "metadata": {},
   "source": [
    "### POO"
   ]
  },
  {
   "cell_type": "markdown",
   "metadata": {},
   "source": [
    "3. **Crear una clase para representar un punto en el plano:** Crea una clase llamada `Punto` que tenga dos atributos privados: `x` e `y`, que representen las coordenadas del punto en el plano cartesiano. La clase debe tener los siguientes métodos:\n",
    "\n",
    "    - Constructor (`__init__`): inicializar los atributos x e y con los valores proporcionados.\n",
    "    - `get_x()`: devolver el valor del atributo x.\n",
    "    - `get_y()`: devolver el valor del atributo y.\n",
    "    - `set_x(nuevo_x)`: actualizar el valor del atributo x con el valor nuevo_x proporcionado.\n",
    "    - `set_y(nuevo_y)`: actualizar el valor del atributo y con el valor nuevo_y proporcionado.\n",
    "    - `mover(dx, dy)`: mover el punto una distancia dx en el eje x y una distancia dy en el eje y.\n",
    "    - `distancia_al_origen()`: calcular y devolver la distancia del punto al origen (0, 0)."
   ]
  },
  {
   "cell_type": "code",
   "execution_count": null,
   "metadata": {},
   "outputs": [],
   "source": [
    "#programa aqui:\n"
   ]
  },
  {
   "cell_type": "code",
   "execution_count": null,
   "metadata": {},
   "outputs": [],
   "source": [
    "# Ejemplo de uso\n",
    "punto = Punto(3, 4)\n",
    "print(f\"Coordenadas del punto: ({punto.get_x()}, {punto.get_y()})\")\n",
    "\n",
    "punto.mover(1, -2)\n",
    "print(f\"Coordenadas del punto después de mover: ({punto.get_x()}, {punto.get_y()})\")\n",
    "\n",
    "distancia_origen = punto.distancia_al_origen()\n",
    "print(f\"Distancia del punto al origen: {distancia_origen}\")"
   ]
  },
  {
   "cell_type": "markdown",
   "metadata": {},
   "source": [
    "**Salida:**\n",
    "\n",
    "Coordenadas del punto: (3, 4)\n",
    "\n",
    "Coordenadas del punto después de mover: (4, 2)\n",
    "\n",
    "Distancia del punto al origen: 5.0"
   ]
  },
  {
   "cell_type": "markdown",
   "metadata": {},
   "source": [
    "4. **Crear una clase para representar una cuenta bancaria:**\n",
    "   \n",
    "- Crea una clase llamada CuentaBancaria que tenga los siguientes atributos privados:\n",
    "\n",
    "   - `numero_cuenta:` un identificador único para la cuenta.\n",
    "   - `titular:` el nombre del titular de la cuenta.\n",
    "   - `saldo:` el saldo actual de la cuenta.\n",
    "\n",
    "- La clase debe tener los siguientes métodos:\n",
    "\n",
    "   - `Constructor:` inicializar los atributos numero_cuenta, titular y saldo con los valores proporcionados.\n",
    "   - `depositar(monto):` depositar un monto en la cuenta y actualizar el saldo.\n",
    "   - `retirar(monto):` retirar un monto de la cuenta (si el saldo es suficiente) y actualizar el saldo.\n",
    "   - `consultar_saldo():` consultar y devolver el saldo actual de la cuenta."
   ]
  },
  {
   "cell_type": "code",
   "execution_count": null,
   "metadata": {},
   "outputs": [],
   "source": [
    "#programa aqui:\n"
   ]
  },
  {
   "cell_type": "code",
   "execution_count": null,
   "metadata": {},
   "outputs": [],
   "source": [
    "#ejemplo de uso\n",
    "\n",
    "cuenta = CuentaBancaria(\"123456789\", \"Juan Pérez\", 1000.0)\n",
    "\n",
    "cuenta.depositar(500.0)\n",
    "print(f\"Saldo después de depósito: {cuenta.consultar_saldo()}\")\n",
    "\n",
    "cuenta.retirar(200.0)\n",
    "print(f\"Saldo después de retiro: {cuenta.consultar_saldo()}\")"
   ]
  },
  {
   "cell_type": "markdown",
   "metadata": {},
   "source": [
    "**Salida:**\n",
    "\n",
    "Saldo después de depósito: 1500.0\n",
    "\n",
    "Saldo después de retiro: 1300.0\n"
   ]
  }
 ],
 "metadata": {
  "language_info": {
   "name": "python"
  }
 },
 "nbformat": 4,
 "nbformat_minor": 2
}
