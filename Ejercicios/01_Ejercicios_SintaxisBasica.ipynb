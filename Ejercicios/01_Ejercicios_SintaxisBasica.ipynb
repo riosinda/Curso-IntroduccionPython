{
 "cells": [
  {
   "cell_type": "markdown",
   "metadata": {},
   "source": [
    "### Ejercicios de Práctica"
   ]
  },
  {
   "cell_type": "markdown",
   "metadata": {},
   "source": [
    "1. **Conversión de Temperatura**:\n",
    "   - Escribe un programa que convierta una temperatura dada en grados Celsius a grados Fahrenheit. La fórmula para la conversión es: \\(F = 9/5C + 32\\).\n",
    "   - **Salida Esperada**: Para una entrada de 0 grados Celsius, la salida debería ser 32 grados Fahrenheit."
   ]
  },
  {
   "cell_type": "code",
   "execution_count": null,
   "metadata": {},
   "outputs": [],
   "source": []
  },
  {
   "cell_type": "markdown",
   "metadata": {},
   "source": [
    "2. **Área de un Círculo**:\n",
    "   - Escribe un programa que calcule el área de un círculo dado su radio. La fórmula para el área es: \\(A = \\pi r^2\\).\n",
    "   - **Salida Esperada**: Para un radio de 3, la salida debería ser aproximadamente 28.27.\n"
   ]
  },
  {
   "cell_type": "code",
   "execution_count": null,
   "metadata": {},
   "outputs": [],
   "source": []
  },
  {
   "cell_type": "markdown",
   "metadata": {},
   "source": [
    "3. **Número Par o Impar**:\n",
    "   - Escribe un programa que determine si un número dado es par o impar.\n",
    "   - **Salida Esperada**: Para una entrada de 4, la salida debería ser \"4 es un número par.\"\n"
   ]
  },
  {
   "cell_type": "code",
   "execution_count": null,
   "metadata": {},
   "outputs": [],
   "source": []
  },
  {
   "cell_type": "markdown",
   "metadata": {},
   "source": [
    "4. **Número Primo**:\n",
    "   - Escribe un programa que determine si un número ingresado por el usuario es primo o no.\n",
    "   - **Salida Esperada**: Para una entrada de 7, la salida debería ser \"7 es un número primo.\"\n"
   ]
  },
  {
   "cell_type": "code",
   "execution_count": null,
   "metadata": {},
   "outputs": [],
   "source": []
  },
  {
   "cell_type": "markdown",
   "metadata": {},
   "source": [
    "5. **Calculadora Simple**:\n",
    "   - Escribe un programa que tome dos números y una operación (suma, resta, multiplicación, división) y realice la operación correspondiente.\n",
    "   - **Salida Esperada**: Para una entrada de 5, 3 y operación multiplicación, la salida debería ser 15.\n"
   ]
  },
  {
   "cell_type": "code",
   "execution_count": null,
   "metadata": {},
   "outputs": [],
   "source": []
  },
  {
   "cell_type": "markdown",
   "metadata": {},
   "source": [
    "6. **Suma de Números Naturales**:\n",
    "   - Escribe un programa que calcule la suma de los primeros N números naturales, donde N es un número ingresado por el usuario.\n",
    "   - **Salida Esperada**: Para una entrada de 5, la salida debería ser 15 (1+2+3+4+5)."
   ]
  },
  {
   "cell_type": "code",
   "execution_count": null,
   "metadata": {},
   "outputs": [],
   "source": []
  },
  {
   "cell_type": "markdown",
   "metadata": {},
   "source": [
    "7. **Máximo y Mínimo de una Lista**:\n",
    "   - Escribe un programa que encuentre el valor máximo y mínimo en una lista de números (sin usar la funcion max() o min()).\n",
    "   - **Salida Esperada**: Para una lista de [1, 2, 3, 4], la salida debería ser \"Máximo: 4, Mínimo: 1\"."
   ]
  },
  {
   "cell_type": "code",
   "execution_count": null,
   "metadata": {},
   "outputs": [],
   "source": []
  },
  {
   "cell_type": "markdown",
   "metadata": {},
   "source": [
    "8. **Acceder a Elementos de una Tupla**:\n",
    "    - Crea una tupla con 5 elementos y escribe un programa que imprima el primer y el último elemento de la tupla.\n",
    "    - **Salida Esperada**: Para una tupla (1, 2, 3, 4, 5), la salida debería ser \"Primero: 1, Último: 5\"."
   ]
  },
  {
   "cell_type": "code",
   "execution_count": null,
   "metadata": {},
   "outputs": [],
   "source": []
  },
  {
   "cell_type": "markdown",
   "metadata": {},
   "source": [
    "9. **Tabla de Multiplicar**:\n",
    "   - Escribe un programa que imprima la tabla de multiplicar de un número ingresado por el usuario.\n",
    "   - **Salida Esperada**: Para una entrada de 3, la salida debería ser:\n",
    "     ```\n",
    "     3 x 1 = 3\n",
    "     3 x 2 = 6\n",
    "     3 x 3 = 9\n",
    "     3 x 4 = 12\n",
    "     3 x 5 = 15\n",
    "     3 x 6 = 18\n",
    "     3 x 7 = 21\n",
    "     3 x 8 = 24\n",
    "     3 x 9 = 27\n",
    "     3 x 10 = 30\n",
    "     ```"
   ]
  },
  {
   "cell_type": "code",
   "execution_count": null,
   "metadata": {},
   "outputs": [],
   "source": []
  },
  {
   "cell_type": "markdown",
   "metadata": {},
   "source": [
    "10. **Contar Palabras en una Frase**:\n",
    "    - Escribe un programa que cuente el número de veces que aparece cada palabra en una frase dada por el usuario. Usa un diccionario para almacenar las palabras y sus conteos.\n",
    "    - **Salida Esperada**: Para la frase \"hola hola mundo\", la salida debería ser \"{'hola': 2, 'mundo': 1}\".\n"
   ]
  },
  {
   "cell_type": "code",
   "execution_count": null,
   "metadata": {},
   "outputs": [],
   "source": []
  },
  {
   "cell_type": "markdown",
   "metadata": {},
   "source": [
    "11. **Función Factorial**:\n",
    "    - Escribe una función que calcule el factorial de un número dado.\n",
    "    - **Salida Esperada**: Para una entrada de 5, la salida debería ser 120."
   ]
  },
  {
   "cell_type": "code",
   "execution_count": null,
   "metadata": {},
   "outputs": [],
   "source": []
  },
  {
   "cell_type": "markdown",
   "metadata": {},
   "source": [
    "12. **Función Fibonacci**:\n",
    "    - Escribe una función que genere la secuencia de Fibonacci hasta el N-ésimo término, donde N es un número ingresado por el usuario.\n",
    "    - **Salida Esperada**: Para una entrada de 5, la salida debería ser [0, 1, 1, 2, 3]."
   ]
  },
  {
   "cell_type": "code",
   "execution_count": null,
   "metadata": {},
   "outputs": [],
   "source": []
  },
  {
   "cell_type": "markdown",
   "metadata": {},
   "source": [
    "### Ejemplo de Solución\n",
    "\n",
    "Aquí tienes un ejemplo de cómo resolver uno de los ejercicios:\n",
    "\n",
    "#### Ejercicio 3: Número Par o Impar\n",
    "\n",
    "```python\n",
    "def es_par_o_impar(numero):\n",
    "    if numero % 2 == 0:\n",
    "        return f\"{numero} es un número par.\"\n",
    "    else:\n",
    "        return f\"{numero} es un número impar.\"\n",
    "\n",
    "# Solicitar un número al usuario\n",
    "numero = int(input(\"Introduce un número: \"))\n",
    "resultado = es_par_o_impar(numero)\n",
    "print(resultado)"
   ]
  }
 ],
 "metadata": {
  "kernelspec": {
   "display_name": "Python 3",
   "language": "python",
   "name": "python3"
  },
  "language_info": {
   "codemirror_mode": {
    "name": "ipython",
    "version": 3
   },
   "file_extension": ".py",
   "mimetype": "text/x-python",
   "name": "python",
   "nbconvert_exporter": "python",
   "pygments_lexer": "ipython3",
   "version": "3.11.5"
  }
 },
 "nbformat": 4,
 "nbformat_minor": 2
}
