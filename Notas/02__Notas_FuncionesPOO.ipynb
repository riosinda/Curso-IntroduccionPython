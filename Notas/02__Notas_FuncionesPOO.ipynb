{
 "cells": [
  {
   "cell_type": "markdown",
   "id": "5d05d59f",
   "metadata": {},
   "source": [
    "# Introducción a Python\n",
    "## Funciones y Programación Orientada a Objetos\n",
    "\n",
    "Sesion 2 del curso de verano de Introducción a Python y lógica de programación del Centro de Investigación e Innovación Biomedica e Informatica CIIBI 2024\n",
    "\n",
    ">Instructor: Ing. José Indalecio Ríos"
   ]
  },
  {
   "cell_type": "markdown",
   "id": "34a79b15",
   "metadata": {},
   "source": [
    "### Objetivos de Aprendizaje\n",
    "\n",
    "Al final de este notebook, deberías ser capaz de:\n",
    "- Definir y utilizar funciones en Python, incluyendo funciones con múltiples parámetros y funciones anónimas.\n",
    "- Comprender el alcance de las variables dentro y fuera de las funciones.\n",
    "- Crear y manipular clases y objetos en Python.\n",
    "- Implementar los conceptos de herencia, polimorfismo y encapsulamiento en la programación orientada a objetos.\n",
    "- Resolver ejercicios prácticos que apliquen estos conceptos para reforzar tu comprensión.\n"
   ]
  },
  {
   "cell_type": "markdown",
   "id": "4a9c7bc2",
   "metadata": {},
   "source": [
    "## Funciones en Python"
   ]
  },
  {
   "cell_type": "markdown",
   "id": "0d0f16cb",
   "metadata": {},
   "source": [
    "### Definición y Uso de Funciones"
   ]
  },
  {
   "cell_type": "code",
   "execution_count": null,
   "id": "aa4f1c6e",
   "metadata": {},
   "outputs": [],
   "source": [
    "# Definición y uso de funciones\n",
    "def saludar(nombre):\n",
    "    \"\"\"Esta función saluda a la persona cuyo nombre se pasa como argumento.\"\"\"\n",
    "    return f\"Hola, {nombre}!\"\n",
    "\n",
    "# Llamando a la función\n",
    "print(saludar(\"Ana\"))\n"
   ]
  },
  {
   "cell_type": "markdown",
   "id": "43581e8c",
   "metadata": {},
   "source": [
    "### Funciones con Múltiples Parámetros"
   ]
  },
  {
   "cell_type": "code",
   "execution_count": null,
   "id": "bd6e00e1",
   "metadata": {},
   "outputs": [],
   "source": [
    "# Funciones con múltiples parámetros\n",
    "def sumar(a, b):\n",
    "    \"\"\"Esta función retorna la suma de dos números.\"\"\"\n",
    "    return a + b\n",
    "\n",
    "print(sumar(5, 3))\n"
   ]
  },
  {
   "cell_type": "markdown",
   "id": "5ddbd629",
   "metadata": {},
   "source": [
    "### Funciones Anónimas (lambda)"
   ]
  },
  {
   "cell_type": "code",
   "execution_count": null,
   "id": "bf581653",
   "metadata": {},
   "outputs": [],
   "source": [
    "# Funciones anónimas (lambda)\n",
    "doble = lambda x: x * 2\n",
    "print(doble(4))\n"
   ]
  },
  {
   "cell_type": "markdown",
   "id": "5c328ccb",
   "metadata": {},
   "source": [
    "### Alcance de Variables"
   ]
  },
  {
   "cell_type": "code",
   "execution_count": null,
   "id": "c1c67058",
   "metadata": {},
   "outputs": [],
   "source": [
    "# Alcance de variables\n",
    "def prueba_alcance():\n",
    "    variable_local = \"Soy local\"\n",
    "    print(variable_local)\n",
    "\n",
    "prueba_alcance()\n",
    "# print(variable_local) # Esto dará error porque variable_local no está definida fuera de la función\n"
   ]
  },
  {
   "cell_type": "markdown",
   "id": "c4474957",
   "metadata": {},
   "source": [
    "## Programación Orientada a Objetos (POO) en Python"
   ]
  },
  {
   "cell_type": "markdown",
   "id": "61f62b01",
   "metadata": {},
   "source": [
    "### Clases y Objetos"
   ]
  },
  {
   "cell_type": "code",
   "execution_count": null,
   "id": "9985e90d",
   "metadata": {},
   "outputs": [],
   "source": [
    "# Definición de una clase\n",
    "class Persona:\n",
    "    def __init__(self, nombre, edad):\n",
    "        self.nombre = nombre\n",
    "        self.edad = edad\n",
    "\n",
    "    def describir(self):\n",
    "        return f\"{self.nombre} tiene {self.edad} años.\"\n",
    "\n",
    "# Creación de un objeto\n",
    "persona1 = Persona(\"Juan\", 30)\n",
    "print(persona1.describir())\n"
   ]
  },
  {
   "cell_type": "markdown",
   "id": "ffa9b817",
   "metadata": {},
   "source": [
    "### Herencia"
   ]
  },
  {
   "cell_type": "code",
   "execution_count": null,
   "id": "07e85f72",
   "metadata": {},
   "outputs": [],
   "source": [
    "# Herencia\n",
    "class Empleado(Persona):\n",
    "    def __init__(self, nombre, edad, salario):\n",
    "        super().__init__(nombre, edad)\n",
    "        self.salario = salario\n",
    "\n",
    "    def describir(self):\n",
    "        return f\"{self.nombre} tiene {self.edad} años y gana {self.salario} dólares.\"\n",
    "\n",
    "empleado1 = Empleado(\"Ana\", 28, 50000)\n",
    "print(empleado1.describir())\n"
   ]
  },
  {
   "cell_type": "markdown",
   "id": "43e86653",
   "metadata": {},
   "source": [
    "### Polimorfismo"
   ]
  },
  {
   "cell_type": "code",
   "execution_count": null,
   "id": "27286b88",
   "metadata": {},
   "outputs": [],
   "source": [
    "# Polimorfismo\n",
    "class Gato:\n",
    "    def sonido(self):\n",
    "        return \"Miau\"\n",
    "\n",
    "class Perro:\n",
    "    def sonido(self):\n",
    "        return \"Guau\"\n",
    "\n",
    "def imprimir_sonido(animal):\n",
    "    print(animal.sonido())\n",
    "\n",
    "gato = Gato()\n",
    "perro = Perro()\n",
    "\n",
    "imprimir_sonido(gato)\n",
    "imprimir_sonido(perro)\n"
   ]
  },
  {
   "cell_type": "markdown",
   "id": "b8ebe5ca",
   "metadata": {},
   "source": [
    "### Encapsulamiento"
   ]
  },
  {
   "cell_type": "code",
   "execution_count": null,
   "id": "8b85e5d5",
   "metadata": {},
   "outputs": [],
   "source": [
    "# Encapsulamiento\n",
    "class CuentaBancaria:\n",
    "    def __init__(self, titular, saldo):\n",
    "        self.__titular = titular\n",
    "        self.__saldo = saldo\n",
    "\n",
    "    def depositar(self, monto):\n",
    "        self.__saldo += monto\n",
    "        return self.__saldo\n",
    "\n",
    "    def retirar(self, monto):\n",
    "        if monto > self.__saldo:\n",
    "            return \"Saldo insuficiente\"\n",
    "        else:\n",
    "            self.__saldo -= monto\n",
    "            return self.__saldo\n",
    "\n",
    "# Creación de una cuenta bancaria\n",
    "cuenta = CuentaBancaria(\"Carlos\", 1000)\n",
    "print(cuenta.depositar(500))\n",
    "print(cuenta.retirar(200))\n",
    "print(cuenta.retirar(1500))\n"
   ]
  }
 ],
 "metadata": {
  "language_info": {
   "name": "python"
  }
 },
 "nbformat": 4,
 "nbformat_minor": 5
}
