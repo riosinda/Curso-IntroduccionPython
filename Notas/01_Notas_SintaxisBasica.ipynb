{
 "cells": [
  {
   "cell_type": "markdown",
   "metadata": {},
   "source": [
    "# Introducción a Python\n",
    "## Sintaxis Básica\n",
    "\n",
    "Sesion 1 del curso de verano de Introducción a Python y lógica de programación del Centro de Investigación e Innovación Biomedica e Informatica CIIBI 2024\n",
    "\n",
    ">Instructor: Ing. José Indalecio Ríos"
   ]
  },
  {
   "cell_type": "markdown",
   "id": "2f5c2501",
   "metadata": {},
   "source": [
    "\n",
    "### Objetivos de Aprendizaje\n",
    "\n",
    "Al final de este notebook, deberías ser capaz de:\n",
    "- Comprender y utilizar la sintaxis básica de Python.\n",
    "- Manipular listas, tuplas y diccionarios.\n",
    "- Escribir funciones y utilizar estructuras de control como bucles y condicionales.\n",
    "- Resolver ejercicios prácticos para reforzar tu comprensión.\n"
   ]
  },
  {
   "cell_type": "markdown",
   "metadata": {},
   "source": [
    "## Manipulación de variables y tipos de datos"
   ]
  },
  {
   "cell_type": "markdown",
   "metadata": {},
   "source": [
    "### Tipos de datos\n",
    "\n",
    "Existen diferentes tipos de datos en Python, entre los cuales destacan principalmente las variables de tipo Entero, Flotante, Cadena (String) y Booleano.\n",
    "\n",
    "- **Entero (int)**: Tipo que contiene números enteros desde `-∞` hasta `∞`.\n",
    "\n",
    "- **Flotante (float)**: Tipo que contiene todos los números reales, es decir, todos los números con decimales desde `-∞` hasta `∞`.\n",
    "\n",
    "- **Cadena (string)**: Tipo que contiene uno o más caracteres de texto.\n",
    "\n",
    "- **Booleano (bool)**: Tipo que contiene solo dos posibles valores: Verdadero o Falso (`True` o `False`)."
   ]
  },
  {
   "cell_type": "code",
   "execution_count": 1,
   "metadata": {},
   "outputs": [
    {
     "name": "stdout",
     "output_type": "stream",
     "text": [
      "-10\n",
      "<class 'int'>\n"
     ]
    }
   ],
   "source": [
    "#variable de tipo entero\n",
    "variable = -10\n",
    "print(variable)\n",
    "print(type(variable)) #para saber el tipo de variable"
   ]
  },
  {
   "cell_type": "code",
   "execution_count": 2,
   "metadata": {},
   "outputs": [
    {
     "name": "stdout",
     "output_type": "stream",
     "text": [
      "10.5\n",
      "<class 'float'>\n"
     ]
    }
   ],
   "source": [
    "#Variable de tipo flotante\n",
    "variable = 10.5\n",
    "print(variable)\n",
    "print(type(variable)) #para saber el tipo de variable"
   ]
  },
  {
   "cell_type": "code",
   "execution_count": 3,
   "metadata": {},
   "outputs": [
    {
     "name": "stdout",
     "output_type": "stream",
     "text": [
      "Hola Mundo\n",
      "<class 'str'>\n"
     ]
    }
   ],
   "source": [
    "#variable de tipo cadena o string\n",
    "variable = \"Hola Mundo\"\n",
    "print(variable)\n",
    "print(type(variable)) #para saber el tipo de variable"
   ]
  },
  {
   "cell_type": "code",
   "execution_count": 4,
   "metadata": {},
   "outputs": [
    {
     "name": "stdout",
     "output_type": "stream",
     "text": [
      "True\n",
      "<class 'bool'>\n"
     ]
    }
   ],
   "source": [
    "#variable de tipo booleano\n",
    "variable = True\n",
    "print(variable)\n",
    "print(type(variable)) #para saber el tipo de variable"
   ]
  },
  {
   "cell_type": "markdown",
   "metadata": {},
   "source": [
    "### Manipulacion de variables\n",
    "\n",
    "En Python, una variable puede cambiar de tipo a lo largo de su vida útil. Por ejemplo, una variable que inicialmente es de tipo cadena (string) puede convertirse en un entero (int) o en un flotante (float). Esta flexibilidad es una característica poderosa de Python, que permite una manipulación dinámica de las variables.\n",
    "\n",
    "Para cambiar el tipo de una variable, se utilizan funciones de conversión integradas. A continuación, se describen algunas de las funciones más comunes para la conversión de tipos:\n",
    "\n",
    "- **`int()`**: Convierte un valor a entero.\n",
    "\n",
    "- **`float()`**: Convierte un valor a flotante.\n",
    "\n",
    "- **`str()`**: Convierte un valor a cadena.\n",
    "  \n",
    "- **`bool()`**: Convierte un valor a booleano."
   ]
  },
  {
   "cell_type": "code",
   "execution_count": 5,
   "metadata": {},
   "outputs": [
    {
     "name": "stdout",
     "output_type": "stream",
     "text": [
      "9\n",
      "<class 'int'>\n"
     ]
    }
   ],
   "source": [
    "variable = \"CIIBI 2024\" #inicialice la variable  como string\n",
    "variable = 9      #la variable cambio a entero\n",
    "\n",
    "print(variable)\n",
    "print(type(variable)) #para saber el tipo de variable"
   ]
  },
  {
   "cell_type": "code",
   "execution_count": 6,
   "metadata": {},
   "outputs": [
    {
     "name": "stdout",
     "output_type": "stream",
     "text": [
      "10\n",
      "<class 'int'>\n"
     ]
    }
   ],
   "source": [
    "variable = 10.5 #inicialice la variable  como flotante\n",
    "variable = int(variable) #convertir a entero\n",
    "\n",
    "print(variable)\n",
    "print(type(variable)) #para saber el tipo de variable"
   ]
  },
  {
   "cell_type": "code",
   "execution_count": 7,
   "metadata": {},
   "outputs": [
    {
     "name": "stdout",
     "output_type": "stream",
     "text": [
      "10.0\n",
      "<class 'float'>\n"
     ]
    }
   ],
   "source": [
    "variable = 10 #inicialice la variable  como entero\n",
    "variable = float(variable) #convertir a entero\n",
    "\n",
    "print(variable)\n",
    "print(type(variable)) #para saber el tipo de variable"
   ]
  },
  {
   "cell_type": "code",
   "execution_count": 8,
   "metadata": {},
   "outputs": [
    {
     "name": "stdout",
     "output_type": "stream",
     "text": [
      "10\n",
      "<class 'str'>\n"
     ]
    }
   ],
   "source": [
    "variable = 10 #inicialice la variable  como entero\n",
    "variable = str(variable) #convertir a cadena\n",
    "\n",
    "print(variable)\n",
    "print(type(variable)) #para saber el tipo de variable"
   ]
  },
  {
   "cell_type": "markdown",
   "metadata": {},
   "source": [
    "## Operadores"
   ]
  },
  {
   "cell_type": "markdown",
   "metadata": {},
   "source": [
    "### Aritméticos\n",
    "\n",
    "Los operadores aritméticos se utilizan para realizar operaciones matemáticas básicas.\n",
    "\n",
    "- **Suma (`+`)**: Suma dos valores.\n",
    "\n",
    "- **Resta (`-`)**: Resta el segundo valor del primero.\n",
    "\n",
    "- **Multiplicación (`*`)**: Multiplica dos valores.\n",
    "\n",
    "- **División (`/`)**: Divide el primer valor por el segundo.\n",
    "\n",
    "- **División Entera (`//`)**: Divide el primer valor por el segundo y devuelve la parte entera del resultado.\n",
    "\n",
    "- **Módulo (`%`)**: Devuelve el resto de la división del primer valor por el segundo.\n",
    "\n",
    "- **Exponenciación (`**`)**: Eleva el primer valor a la potencia del segundo.\n"
   ]
  },
  {
   "cell_type": "markdown",
   "metadata": {},
   "source": []
  },
  {
   "cell_type": "code",
   "execution_count": 9,
   "metadata": {},
   "outputs": [
    {
     "name": "stdout",
     "output_type": "stream",
     "text": [
      "La suma es: 13\n",
      "La resta es:  7\n",
      "La multiplicacion es:  30\n",
      "La division es: 3.3333333333333335\n",
      "La division entera es:  3\n",
      "El modulo es:  1\n",
      "La potencia es:  1000\n"
     ]
    }
   ],
   "source": [
    "num1 = \"10\"\n",
    "num2 = \"3\"\n",
    "\n",
    "num1 = int(num1)\n",
    "num2 = int(num2)\n",
    "\n",
    "#suma\n",
    "resultado = num1 + num2\n",
    "print(f\"La suma es: {resultado}\")\n",
    "\n",
    "#resta\n",
    "resultado = num1 - num2\n",
    "print(\"La resta es: \", resultado)\n",
    "\n",
    "#multiplicacion\n",
    "resultado = num1 * num2\n",
    "print(\"La multiplicacion es: \", resultado)\n",
    "\n",
    "#division\n",
    "resultado = num1 / num2\n",
    "print(f\"La division es: {resultado}\")\n",
    "\n",
    "#division entera\n",
    "resultado = num1 // num2\n",
    "print(\"La division entera es: \", resultado)\n",
    "\n",
    "#modulo\n",
    "resultado = num1 % num2\n",
    "print(\"El modulo es: \", resultado)\n",
    "\n",
    "#potencia\n",
    "resultado = num1 ** num2\n",
    "print(\"La potencia es: \", resultado)"
   ]
  },
  {
   "cell_type": "markdown",
   "metadata": {},
   "source": [
    "### Relacionales"
   ]
  },
  {
   "cell_type": "markdown",
   "metadata": {},
   "source": [
    "\n"
   ]
  },
  {
   "cell_type": "code",
   "execution_count": 10,
   "metadata": {},
   "outputs": [
    {
     "name": "stdout",
     "output_type": "stream",
     "text": [
      "mayor que:  False\n",
      "menor que:  True\n",
      "mayor o igual que:  False\n",
      "menor o igual que:  True\n",
      "igual que:  False\n",
      "diferente que:  True\n"
     ]
    }
   ],
   "source": [
    "a = 5\n",
    "b = 11\n",
    "\n",
    "#mayor que\n",
    "print(\"mayor que: \",a > b)\n",
    "\n",
    "#menor que\n",
    "print(\"menor que: \",a < b)\n",
    "\n",
    "#mayor o igual que\n",
    "print(\"mayor o igual que: \",a >= b)\n",
    "\n",
    "#menor o igual que\n",
    "print(\"menor o igual que: \",a <= b)\n",
    "\n",
    "#igual que\n",
    "print(\"igual que: \",a == b)\n",
    "\n",
    "#diferente que\n",
    "print(\"diferente que: \",a != b)"
   ]
  },
  {
   "cell_type": "markdown",
   "metadata": {},
   "source": [
    "### Logicos\n",
    "\n",
    "Los operadores lógicos se utilizan para combinar expresiones booleanas.\n",
    "\n",
    "- **AND (`and`)**: Devuelve `True` si ambas expresiones son `True`.\n",
    "\n",
    "- **OR (`or`)**: Devuelve `True` si al menos una de las expresiones es `True`.\n",
    "\n",
    "- **NOT (`not`)**: Invierte el valor de verdad de una expresión."
   ]
  },
  {
   "cell_type": "code",
   "execution_count": 11,
   "metadata": {},
   "outputs": [
    {
     "name": "stdout",
     "output_type": "stream",
     "text": [
      "and:  True\n",
      "or:  True\n",
      "not:  False\n"
     ]
    }
   ],
   "source": [
    "a = 5\n",
    "b = 11\n",
    "#and (y)\n",
    "print(\"and: \",a < 10 and b > 10)\n",
    "\n",
    "#or (o)\n",
    "print(\"or: \",a < 10 or b > 10)\n",
    "\n",
    "#not (negacion)\n",
    "print(\"not: \",not a < 10)"
   ]
  },
  {
   "cell_type": "markdown",
   "metadata": {},
   "source": [
    "## Estructuras de datos"
   ]
  },
  {
   "cell_type": "markdown",
   "metadata": {},
   "source": [
    "### Listas\n",
    "Una lista en Python es una colección ordenada de elementos que pueden ser de diferentes tipos. Las listas son mutables, lo que significa que se pueden cambiar después de su creación.\n",
    "\n",
    "#### Tipos de Listas\n",
    "\n",
    "- **Lista de enteros (int)**: Contiene solo números enteros.\n",
    "\n",
    "- **Lista de flotantes (float)**: Contiene solo números con decimales.\n",
    "\n",
    "- **Lista de cadenas (string)**: Contiene solo cadenas de texto.\n",
    "\n",
    "- **Lista de booleanos (bool)**: Contiene solo valores booleanos.\n",
    "\n",
    "- **Lista mixta**: Contiene elementos de diferentes tipos.\n"
   ]
  },
  {
   "cell_type": "code",
   "execution_count": 12,
   "metadata": {},
   "outputs": [
    {
     "name": "stdout",
     "output_type": "stream",
     "text": [
      "[1, 2, 3, 4, 5]\n",
      "<class 'list'>\n"
     ]
    }
   ],
   "source": [
    "mi_lista = [1,2,3,4,5]\n",
    "\n",
    "print(mi_lista)\n",
    "print(type(mi_lista))"
   ]
  },
  {
   "cell_type": "code",
   "execution_count": 13,
   "metadata": {},
   "outputs": [
    {
     "name": "stdout",
     "output_type": "stream",
     "text": [
      "['hola', 'mundo', 'python']\n",
      "[10.5, 11.5, 12.5]\n",
      "[True, False, True]\n",
      "[1, 2.5, 'hola']\n"
     ]
    }
   ],
   "source": [
    "#tipos de listas\n",
    "lista_str = [\"hola\", \"mundo\", \"python\"]     #lista de tipo string\n",
    "lista_float = [10.5, 11.5, 12.5]            #lista de tipo flotante\n",
    "lista_bool = [True, False, True]            #lista de tipo booleano\n",
    "lista_mixta = [1, 2.5, \"hola\"]              #lista de tipo mixto\n",
    "\n",
    "print(lista_str)\n",
    "print(lista_float)\n",
    "print(lista_bool)\n",
    "print(lista_mixta)"
   ]
  },
  {
   "cell_type": "markdown",
   "metadata": {},
   "source": [
    "Puedes acceder a los elementos de una lista usando índices. Los índices en Python comienzan en 0."
   ]
  },
  {
   "cell_type": "code",
   "execution_count": 14,
   "metadata": {},
   "outputs": [
    {
     "name": "stdout",
     "output_type": "stream",
     "text": [
      "hola\n",
      "['hola', 'mundo', 'python']\n",
      "['mundo', 'mundo', 'python']\n",
      "mundo\n",
      "python\n",
      "['mundo', 'mundo']\n"
     ]
    }
   ],
   "source": [
    "#acceder a un elemento de la lista\n",
    "print(lista_str[0])\n",
    "\n",
    "#modificar un elemento de la lista\n",
    "print(lista_str)\n",
    "lista_str[0] = \"mundo\"\n",
    "print(lista_str)\n",
    "\n",
    "#asignar un elemento de la lista a una variable\n",
    "elemento = lista_str[0]\n",
    "print(elemento)\n",
    "\n",
    "#acceder al ultimo elemento de la lista\n",
    "print(lista_str[-1])\n",
    "\n",
    "#acceder a un rango de elementos\n",
    "print(lista_str[0:2])"
   ]
  },
  {
   "cell_type": "markdown",
   "metadata": {},
   "source": [
    "Las listas en Python vienen con una variedad de métodos y funciones integradas que permiten agregar, eliminar y manipular elementos. A continuación, se describen algunos de los métodos y funciones más comunes:\n",
    "\n",
    "- El método `append()` agrega un elemento al final de la lista.\n",
    "- El método `insert()` agrega un elemento en una posición específica de la lista.\n",
    "- El método `pop()` elimina y devuelve el elemento en la posición especificada. Si no se especifica la posición, elimina y devuelve el último elemento de la lista.\n",
    "- El método `remove()` elimina la primera aparición del valor especificado de la lista.\n",
    "- La instrucción `del` elimina un elemento o un rango de elementos de la lista usando su índice.\n",
    "- La función `len()` devuelve el número de elementos en una lista.\n"
   ]
  },
  {
   "cell_type": "code",
   "execution_count": 15,
   "metadata": {},
   "outputs": [
    {
     "name": "stdout",
     "output_type": "stream",
     "text": [
      "[1, 2, 3, 4, 5]\n",
      "[1, 2, 3, 4, 5, 6]\n"
     ]
    }
   ],
   "source": [
    "mi_lista = [1,2,3,4,5]\n",
    "print(mi_lista)\n",
    "\n",
    "#agregar un elemento al final de la lista\n",
    "mi_lista.append(6)\n",
    "print(mi_lista)"
   ]
  },
  {
   "cell_type": "code",
   "execution_count": 16,
   "metadata": {},
   "outputs": [
    {
     "name": "stdout",
     "output_type": "stream",
     "text": [
      "[1, 2, 3, 4, 5]\n",
      "[1, 2, 3, 3, 4, 5]\n"
     ]
    }
   ],
   "source": [
    "mi_lista = [1,2,3,4,5]\n",
    "print(mi_lista)\n",
    "\n",
    "#agregar un elemento en una posicion especifica\n",
    "mi_lista.insert(3, 3)\n",
    "print(mi_lista)"
   ]
  },
  {
   "cell_type": "code",
   "execution_count": 17,
   "metadata": {},
   "outputs": [
    {
     "name": "stdout",
     "output_type": "stream",
     "text": [
      "[1, 2, 3, 4, 5]\n",
      "[1, 2, 3, 4]\n"
     ]
    }
   ],
   "source": [
    "mi_lista = [1,2,3,4,5]\n",
    "print(mi_lista)\n",
    "\n",
    "#eliminar el ultimo elemento de la lista\n",
    "mi_lista.pop()\n",
    "print(mi_lista)"
   ]
  },
  {
   "cell_type": "code",
   "execution_count": 18,
   "metadata": {},
   "outputs": [
    {
     "name": "stdout",
     "output_type": "stream",
     "text": [
      "[1, 2, 3, 4, 5]\n",
      "[1, 2, 4, 5]\n"
     ]
    }
   ],
   "source": [
    "mi_lista = [1,2,3,4,5]\n",
    "print(mi_lista)\n",
    "\n",
    "#eliminar un valor especifico de la lista\n",
    "mi_lista.remove(3)\n",
    "print(mi_lista)"
   ]
  },
  {
   "cell_type": "code",
   "execution_count": 19,
   "metadata": {},
   "outputs": [
    {
     "name": "stdout",
     "output_type": "stream",
     "text": [
      "[1, 2, 3, 4, 5]\n",
      "[1, 3, 4, 5]\n"
     ]
    }
   ],
   "source": [
    "mi_lista = [1,2,3,4,5]\n",
    "print(mi_lista)\n",
    "\n",
    "#eliminar una posicion especifica de la lista\n",
    "del mi_lista[1]\n",
    "print(mi_lista)"
   ]
  },
  {
   "cell_type": "code",
   "execution_count": 20,
   "metadata": {},
   "outputs": [
    {
     "name": "stdout",
     "output_type": "stream",
     "text": [
      "5\n"
     ]
    }
   ],
   "source": [
    "mi_lista = [1,2,3,4,5]\n",
    "#tamano de la lista\n",
    "print(len(mi_lista))"
   ]
  },
  {
   "cell_type": "markdown",
   "metadata": {},
   "source": [
    "Las listas en Python incluyen métodos para ordenar los elementos, invertir su orden y buscar elementos específicos. A continuación, se describen algunos de los métodos más comunes:\n",
    "\n",
    "- El método `sort()` ordena los elementos de la lista en orden ascendente de forma predeterminada. También puedes ordenar en orden descendente pasando el argumento `reverse=True`.\n",
    "- El método `reverse()`invierte el orden de los elementos en la lista.\n",
    "- El método `index()` devuelve el índice de la primera aparición de un valor especificado. Si el valor no se encuentra en la lista, genera un error `ValueError`.\n",
    "- El método `count()` devuelve el número de veces que un valor especificado aparece en la lista."
   ]
  },
  {
   "cell_type": "code",
   "execution_count": 21,
   "metadata": {},
   "outputs": [
    {
     "name": "stdout",
     "output_type": "stream",
     "text": [
      "[1, 2, 3, 4, 5]\n"
     ]
    }
   ],
   "source": [
    "mi_lista = [5,2,3,4,1]\n",
    "\n",
    "#ordenar la lista\n",
    "mi_lista.sort()\n",
    "print(mi_lista)"
   ]
  },
  {
   "cell_type": "code",
   "execution_count": 22,
   "metadata": {},
   "outputs": [
    {
     "name": "stdout",
     "output_type": "stream",
     "text": [
      "[1, 4, 3, 2, 5]\n"
     ]
    }
   ],
   "source": [
    "mi_lista = [5,2,3,4,1]\n",
    "\n",
    "#invertir la lista\n",
    "mi_lista.reverse()\n",
    "print(mi_lista)"
   ]
  },
  {
   "cell_type": "code",
   "execution_count": 23,
   "metadata": {},
   "outputs": [
    {
     "name": "stdout",
     "output_type": "stream",
     "text": [
      "3\n"
     ]
    }
   ],
   "source": [
    "mi_lista = [5,2,3,4,1]\n",
    "\n",
    "#buscar un elemento en la lista\n",
    "indice = mi_lista.index(4)\n",
    "print(indice)"
   ]
  },
  {
   "cell_type": "code",
   "execution_count": 24,
   "metadata": {},
   "outputs": [
    {
     "name": "stdout",
     "output_type": "stream",
     "text": [
      "1\n"
     ]
    }
   ],
   "source": [
    "mi_lista = [5,2,3,4,1]\n",
    "\n",
    "#contar cuantas veces se repite un elemento en la lista\n",
    "cuenta = mi_lista.count(3)\n",
    "print(cuenta)"
   ]
  },
  {
   "cell_type": "markdown",
   "metadata": {},
   "source": [
    "La función `split()` en Python es muy útil para convertir cadenas de texto en listas, separando la cadena según un delimitador específico.\n",
    "\n",
    "- `split()` sin parámetros separa la cadena por espacios en blanco.\n",
    "- `split(delimitador)` separa la cadena usando el `delimitador` especificado (que también debe ser una cadena)."
   ]
  },
  {
   "cell_type": "code",
   "execution_count": 25,
   "metadata": {},
   "outputs": [
    {
     "name": "stdout",
     "output_type": "stream",
     "text": [
      "hola mundo cruel\n",
      "['hola', 'mundo', 'cruel']\n"
     ]
    }
   ],
   "source": [
    "#Convertir una cadena a una lista\n",
    "cadena = \"hola mundo cruel\"\n",
    "print(cadena)\n",
    "lista = cadena.split() # por defecto separa por espacio\n",
    "print(lista)"
   ]
  },
  {
   "cell_type": "code",
   "execution_count": 26,
   "metadata": {},
   "outputs": [
    {
     "name": "stdout",
     "output_type": "stream",
     "text": [
      "hola-mundo-cruel\n",
      "['hola', 'mundo', 'cruel']\n"
     ]
    }
   ],
   "source": [
    "#Convertir una cadena a una lista\n",
    "cadena = \"hola-mundo-cruel\" #cadena sin espacios\n",
    "print(cadena)\n",
    "lista = cadena.split(\"-\") # separar por guion\n",
    "print(lista)"
   ]
  },
  {
   "cell_type": "code",
   "execution_count": 27,
   "metadata": {},
   "outputs": [
    {
     "name": "stdout",
     "output_type": "stream",
     "text": [
      "hola$mundo$cruel\n",
      "['hola', 'mundo', 'cruel']\n"
     ]
    }
   ],
   "source": [
    "#Convertir una cadena a una lista\n",
    "cadena = \"hola$mundo$cruel\" #cadena sin espacios\n",
    "print(cadena)\n",
    "lista = cadena.split(\"$\") # separar por guion\n",
    "print(lista)"
   ]
  },
  {
   "cell_type": "markdown",
   "metadata": {},
   "source": [
    "### Tuplas\n",
    "\n",
    "Las tuplas son estructuras de datos que permiten almacenar una colección ordenada e inmutable de elementos."
   ]
  },
  {
   "cell_type": "code",
   "execution_count": 28,
   "metadata": {},
   "outputs": [
    {
     "name": "stdout",
     "output_type": "stream",
     "text": [
      "(1, 2, 3, 4, 5)\n",
      "<class 'tuple'>\n"
     ]
    }
   ],
   "source": [
    "mi_tupla = (1, 2, 3, 4, 5)   #tupla\n",
    "\n",
    "print(mi_tupla)\n",
    "print(type(mi_tupla))"
   ]
  },
  {
   "cell_type": "code",
   "execution_count": 29,
   "metadata": {},
   "outputs": [
    {
     "name": "stdout",
     "output_type": "stream",
     "text": [
      "1\n",
      "5\n"
     ]
    }
   ],
   "source": [
    "mi_tupla = (1, 2, 3, 4, 5)   #tupla\n",
    "\n",
    "#acceder a un elemento de la tupla\n",
    "primer_elemento = mi_tupla[0]  # 1\n",
    "ultimo_elemento = mi_tupla[-1]\n",
    "\n",
    "print(primer_elemento)\n",
    "print(ultimo_elemento)"
   ]
  },
  {
   "cell_type": "code",
   "execution_count": 30,
   "metadata": {},
   "outputs": [
    {
     "ename": "TypeError",
     "evalue": "'tuple' object does not support item assignment",
     "output_type": "error",
     "traceback": [
      "\u001b[1;31m---------------------------------------------------------------------------\u001b[0m",
      "\u001b[1;31mTypeError\u001b[0m                                 Traceback (most recent call last)",
      "Cell \u001b[1;32mIn[30], line 2\u001b[0m\n\u001b[0;32m      1\u001b[0m \u001b[38;5;66;03m#modificar un elemento de la tupla (no es posible)\u001b[39;00m\n\u001b[1;32m----> 2\u001b[0m \u001b[43mmi_tupla\u001b[49m\u001b[43m[\u001b[49m\u001b[38;5;241;43m0\u001b[39;49m\u001b[43m]\u001b[49m \u001b[38;5;241m=\u001b[39m \u001b[38;5;241m10\u001b[39m  \u001b[38;5;66;03m# Error\u001b[39;00m\n",
      "\u001b[1;31mTypeError\u001b[0m: 'tuple' object does not support item assignment"
     ]
    }
   ],
   "source": [
    "#modificar un elemento de la tupla (no es posible)\n",
    "mi_tupla[0] = 10  # Error"
   ]
  },
  {
   "cell_type": "code",
   "execution_count": 31,
   "metadata": {},
   "outputs": [
    {
     "name": "stdout",
     "output_type": "stream",
     "text": [
      "3\n"
     ]
    }
   ],
   "source": [
    "#asignar un elemento de la tupla a una variable\n",
    "indice = mi_tupla.index(4)\n",
    "\n",
    "print(indice)"
   ]
  },
  {
   "cell_type": "code",
   "execution_count": 32,
   "metadata": {},
   "outputs": [
    {
     "name": "stdout",
     "output_type": "stream",
     "text": [
      "1\n"
     ]
    }
   ],
   "source": [
    "cuenta = mi_tupla.count(3)\n",
    "\n",
    "print(cuenta)"
   ]
  },
  {
   "cell_type": "markdown",
   "metadata": {},
   "source": [
    "Desempaquetado de tuplas\n",
    "\n",
    "- Asignación Múltiple: Se pueden asignar los elementos de una tupla a variables individuales."
   ]
  },
  {
   "cell_type": "code",
   "execution_count": 33,
   "metadata": {},
   "outputs": [
    {
     "name": "stdout",
     "output_type": "stream",
     "text": [
      "1\n",
      "2\n",
      "3\n"
     ]
    }
   ],
   "source": [
    "mi_tupla = (1, 2, 3)\n",
    "a, b, c = mi_tupla\n",
    "\n",
    "print(a)\n",
    "print(b)\n",
    "print(c)"
   ]
  },
  {
   "cell_type": "markdown",
   "metadata": {},
   "source": [
    "### Diccionarios\n",
    "\n",
    "Los diccionarios son estructuras de datos que permiten almacenar pares de claves y valores.\n",
    "\n",
    "Son similares a las listas, pero en lugar de usar índices numéricos, usan claves únicas."
   ]
  },
  {
   "cell_type": "code",
   "execution_count": 34,
   "metadata": {},
   "outputs": [],
   "source": [
    "mi_diccionario = {}  # Diccionario vacío\n",
    "mi_diccionario = {'clave1': 'valor1', 'clave2': 'valor2'}"
   ]
  },
  {
   "cell_type": "code",
   "execution_count": 35,
   "metadata": {},
   "outputs": [
    {
     "name": "stdout",
     "output_type": "stream",
     "text": [
      "valor1\n"
     ]
    }
   ],
   "source": [
    "#acceder a un elemento del diccionario\n",
    "valor = mi_diccionario['clave1']  # Devuelve 'valor1'\n",
    "\n",
    "print(valor)"
   ]
  },
  {
   "cell_type": "code",
   "execution_count": 36,
   "metadata": {},
   "outputs": [
    {
     "name": "stdout",
     "output_type": "stream",
     "text": [
      "{'clave1': 'nuevo_valor1', 'clave2': 'valor2'}\n"
     ]
    }
   ],
   "source": [
    "#modificar un elemento del diccionario\n",
    "mi_diccionario['clave1'] = 'nuevo_valor1'  # Cambia 'valor1' a 'nuevo_valor1'\n",
    "\n",
    "print(mi_diccionario)"
   ]
  },
  {
   "cell_type": "code",
   "execution_count": 37,
   "metadata": {},
   "outputs": [
    {
     "name": "stdout",
     "output_type": "stream",
     "text": [
      "{'clave1': 'nuevo_valor1', 'clave2': 'valor2', 'clave3': 'valor3'}\n"
     ]
    }
   ],
   "source": [
    "#agregar un elemento al diccionario\n",
    "mi_diccionario['clave3'] = 'valor3'\n",
    "\n",
    "print(mi_diccionario)"
   ]
  },
  {
   "cell_type": "code",
   "execution_count": 38,
   "metadata": {},
   "outputs": [
    {
     "name": "stdout",
     "output_type": "stream",
     "text": [
      "{'clave2': 'valor2', 'clave3': 'valor3'}\n"
     ]
    }
   ],
   "source": [
    "#eliminar un elemento del diccionario\n",
    "del mi_diccionario['clave1']\n",
    "\n",
    "print(mi_diccionario)"
   ]
  },
  {
   "cell_type": "code",
   "execution_count": 39,
   "metadata": {},
   "outputs": [
    {
     "name": "stdout",
     "output_type": "stream",
     "text": [
      "dict_keys(['clave2', 'clave3'])\n"
     ]
    }
   ],
   "source": [
    "#obtener las clave del diccionario\n",
    "claves = mi_diccionario.keys()  # Devuelve una lista de claves\n",
    "\n",
    "print(claves)"
   ]
  },
  {
   "cell_type": "code",
   "execution_count": 40,
   "metadata": {},
   "outputs": [
    {
     "name": "stdout",
     "output_type": "stream",
     "text": [
      "dict_values(['valor2', 'valor3'])\n"
     ]
    }
   ],
   "source": [
    "#obtener los valores del diccionario\n",
    "valores = mi_diccionario.values()  # Devuelve una lista de valores\n",
    "\n",
    "print(valores)"
   ]
  },
  {
   "cell_type": "code",
   "execution_count": 41,
   "metadata": {},
   "outputs": [
    {
     "name": "stdout",
     "output_type": "stream",
     "text": [
      "dict_items([('clave2', 'valor2'), ('clave3', 'valor3')])\n"
     ]
    }
   ],
   "source": [
    "#obtener los elementos del diccionario\n",
    "elementos = mi_diccionario.items()  # Devuelve una lista de tuplas (clave, valor)\n",
    "\n",
    "print(elementos)"
   ]
  },
  {
   "cell_type": "markdown",
   "metadata": {},
   "source": [
    "## Estructuras de control"
   ]
  },
  {
   "cell_type": "markdown",
   "metadata": {},
   "source": [
    "### Condicionales (if, elif, else)"
   ]
  },
  {
   "cell_type": "markdown",
   "metadata": {},
   "source": [
    "`if`: Ejecuta un bloque de código si la condición es verdadera."
   ]
  },
  {
   "cell_type": "code",
   "execution_count": 42,
   "metadata": {},
   "outputs": [
    {
     "name": "stdout",
     "output_type": "stream",
     "text": [
      "Eres mayor de edad.\n"
     ]
    }
   ],
   "source": [
    "edad = 18\n",
    "if edad >= 18:\n",
    "    print(\"Eres mayor de edad.\")\n"
   ]
  },
  {
   "cell_type": "markdown",
   "metadata": {},
   "source": [
    "`elif`: Ejecuta un bloque de código si la condición anterior es falsa y la condición `elif` es verdadera."
   ]
  },
  {
   "cell_type": "code",
   "execution_count": 43,
   "metadata": {},
   "outputs": [
    {
     "name": "stdout",
     "output_type": "stream",
     "text": [
      "Eres adolescente.\n"
     ]
    }
   ],
   "source": [
    "edad = 15\n",
    "if edad >= 18:\n",
    "    print(\"Eres mayor de edad.\")\n",
    "elif edad >= 13:\n",
    "    print(\"Eres adolescente.\")"
   ]
  },
  {
   "cell_type": "markdown",
   "metadata": {},
   "source": [
    "`else`: Ejecuta un bloque de código si ninguna de las condiciones anteriores es verdadera."
   ]
  },
  {
   "cell_type": "code",
   "execution_count": 44,
   "metadata": {},
   "outputs": [
    {
     "name": "stdout",
     "output_type": "stream",
     "text": [
      "Eres un niño.\n"
     ]
    }
   ],
   "source": [
    "edad = 10\n",
    "if edad >= 18:\n",
    "    print(\"Eres mayor de edad.\")\n",
    "elif edad >= 13:\n",
    "    print(\"Eres adolescente.\")\n",
    "else:\n",
    "    print(\"Eres un niño.\")"
   ]
  },
  {
   "cell_type": "markdown",
   "metadata": {},
   "source": [
    "Anidación de Condicionales: Se pueden anidar condicionales dentro de otros."
   ]
  },
  {
   "cell_type": "code",
   "execution_count": 45,
   "metadata": {},
   "outputs": [
    {
     "name": "stdout",
     "output_type": "stream",
     "text": [
      "Eres mayor de edad en España.\n"
     ]
    }
   ],
   "source": [
    "edad = 22\n",
    "pais = \"España\"\n",
    "\n",
    "if edad >= 18:\n",
    "    if pais == \"España\":\n",
    "        print(\"Eres mayor de edad en España.\")\n",
    "    else:\n",
    "        print(\"Eres mayor de edad, pero no en España.\")\n",
    "else:\n",
    "    print(\"No eres mayor de edad.\")"
   ]
  },
  {
   "cell_type": "markdown",
   "metadata": {},
   "source": [
    "- Comparaciones:\n",
    "\n",
    "a `= =` b   Igualdad\n",
    "\n",
    "a `!=` b   Desigualdad\n",
    "\n",
    "a `<` b    Menor que\n",
    "\n",
    "a `<=` b   Menor o igual que\n",
    "\n",
    "a `>` b    Mayor que\n",
    "\n",
    "a `>=` b   Mayor o igual que\n",
    "\n",
    "- Operadores lógicos:\n",
    "\n",
    "`and` Y lógico\n",
    "\n",
    "`or` O lógico\n",
    "\n",
    "`not` Negación lógica"
   ]
  },
  {
   "cell_type": "code",
   "execution_count": 46,
   "metadata": {},
   "outputs": [
    {
     "name": "stdout",
     "output_type": "stream",
     "text": [
      "Puedes conducir.\n"
     ]
    }
   ],
   "source": [
    "edad = 20\n",
    "tiene_permiso = True\n",
    "\n",
    "if edad >= 18 and tiene_permiso == True:\n",
    "    print(\"Puedes conducir.\")\n",
    "else:\n",
    "    print(\"No puedes conducir.\")\n"
   ]
  },
  {
   "cell_type": "code",
   "execution_count": 47,
   "metadata": {},
   "outputs": [
    {
     "name": "stdout",
     "output_type": "stream",
     "text": [
      "No puedes conducir.\n"
     ]
    }
   ],
   "source": [
    "edad = 12\n",
    "tiene_permiso = True\n",
    "\n",
    "if edad >= 18 and tiene_permiso == True:\n",
    "    print(\"Puedes conducir.\")\n",
    "else:\n",
    "    print(\"No puedes conducir.\")\n"
   ]
  },
  {
   "cell_type": "markdown",
   "metadata": {},
   "source": [
    "### Bucles (for, while)"
   ]
  },
  {
   "cell_type": "markdown",
   "metadata": {},
   "source": [
    "`for`: Recorre una secuencia (como una lista, una tupla, un diccionario, o un string)."
   ]
  },
  {
   "cell_type": "code",
   "execution_count": 48,
   "metadata": {},
   "outputs": [
    {
     "name": "stdout",
     "output_type": "stream",
     "text": [
      "1\n",
      "2\n",
      "3\n",
      "4\n",
      "5\n"
     ]
    }
   ],
   "source": [
    "numeros = [1, 2, 3, 4, 5]\n",
    "for num in numeros:\n",
    "    print(num)"
   ]
  },
  {
   "cell_type": "markdown",
   "metadata": {},
   "source": [
    "`range()` genera una secuencia de números."
   ]
  },
  {
   "cell_type": "code",
   "execution_count": 49,
   "metadata": {},
   "outputs": [
    {
     "name": "stdout",
     "output_type": "stream",
     "text": [
      "0\n",
      "1\n",
      "2\n",
      "3\n",
      "4\n"
     ]
    }
   ],
   "source": [
    "for i in range(5):\n",
    "    print(i)  # Imprime del 0 al 4\n"
   ]
  },
  {
   "cell_type": "code",
   "execution_count": 50,
   "metadata": {},
   "outputs": [
    {
     "name": "stdout",
     "output_type": "stream",
     "text": [
      "1\n",
      "3\n",
      "5\n",
      "7\n",
      "9\n"
     ]
    }
   ],
   "source": [
    "for i in range(1, 10, 2):\n",
    "    print(i)  # Imprime 1, 3, 5, 7, 9"
   ]
  },
  {
   "cell_type": "code",
   "execution_count": 51,
   "metadata": {},
   "outputs": [
    {
     "name": "stdout",
     "output_type": "stream",
     "text": [
      "manzana\n",
      "banana\n",
      "cereza\n"
     ]
    }
   ],
   "source": [
    "#iterar sobre listas\n",
    "frutas = ['manzana', 'banana', 'cereza']\n",
    "for fruta in frutas:\n",
    "    print(fruta)"
   ]
  },
  {
   "cell_type": "code",
   "execution_count": 52,
   "metadata": {},
   "outputs": [
    {
     "name": "stdout",
     "output_type": "stream",
     "text": [
      "nombre: Juan\n",
      "edad: 30\n",
      "ciudad: Madrid\n"
     ]
    }
   ],
   "source": [
    "#iterar sobre diccionarios\n",
    "persona = {'nombre': 'Juan', 'edad': 30, 'ciudad': 'Madrid'}\n",
    "for clave, valor in persona.items():\n",
    "    print(f\"{clave}: {valor}\")"
   ]
  },
  {
   "cell_type": "code",
   "execution_count": 53,
   "metadata": {},
   "outputs": [
    {
     "name": "stdout",
     "output_type": "stream",
     "text": [
      "H\n",
      "o\n",
      "l\n",
      "a\n"
     ]
    }
   ],
   "source": [
    "#iterar sobre strings\n",
    "mensaje = \"Hola\"\n",
    "for caracter in mensaje:\n",
    "    print(caracter)"
   ]
  },
  {
   "cell_type": "code",
   "execution_count": 54,
   "metadata": {},
   "outputs": [
    {
     "name": "stdout",
     "output_type": "stream",
     "text": [
      "1\n",
      "2\n",
      "3\n"
     ]
    }
   ],
   "source": [
    "#iterar sobre una tupla\n",
    "mi_tupla = (1, 2, 3)\n",
    "for elemento in mi_tupla:\n",
    "    print(elemento)"
   ]
  },
  {
   "cell_type": "code",
   "execution_count": 55,
   "metadata": {},
   "outputs": [
    {
     "name": "stdout",
     "output_type": "stream",
     "text": [
      "1 + 2 = 3\n",
      "3 + 4 = 7\n",
      "5 + 6 = 11\n"
     ]
    }
   ],
   "source": [
    "#iterar sobre una tupla multiple\n",
    "mi_lista = [(1, 2), (3, 4), (5, 6)]\n",
    "for a, b in mi_lista:\n",
    "    print(f\"{a} + {b} = {a + b}\")"
   ]
  },
  {
   "cell_type": "markdown",
   "metadata": {},
   "source": [
    "`break`: Termina el bucle por completo.\n",
    "\n",
    "`continue`: Salta a la siguiente iteración del bucle."
   ]
  },
  {
   "cell_type": "code",
   "execution_count": 56,
   "metadata": {},
   "outputs": [
    {
     "name": "stdout",
     "output_type": "stream",
     "text": [
      "0\n",
      "1\n",
      "2\n",
      "3\n",
      "4\n"
     ]
    }
   ],
   "source": [
    "for i in range(10):\n",
    "    if i == 5:\n",
    "        break\n",
    "    print(i)  # Imprime del 0 al 4"
   ]
  },
  {
   "cell_type": "code",
   "execution_count": 57,
   "metadata": {},
   "outputs": [
    {
     "name": "stdout",
     "output_type": "stream",
     "text": [
      "0\n",
      "1\n",
      "2\n",
      "3\n",
      "4\n",
      "6\n",
      "7\n",
      "8\n",
      "9\n"
     ]
    }
   ],
   "source": [
    "for i in range(10):\n",
    "    if i == 5:\n",
    "        continue\n",
    "    print(i)  # Imprime del 0 al 4 y del 6 al 9"
   ]
  },
  {
   "cell_type": "markdown",
   "metadata": {},
   "source": [
    "Bucles anidados"
   ]
  },
  {
   "cell_type": "code",
   "execution_count": 58,
   "metadata": {},
   "outputs": [
    {
     "name": "stdout",
     "output_type": "stream",
     "text": [
      "1 x 1 = 1\n",
      "1 x 2 = 2\n",
      "1 x 3 = 3\n",
      "1 x 4 = 4\n",
      "1 x 5 = 5\n",
      "1 x 6 = 6\n",
      "1 x 7 = 7\n",
      "1 x 8 = 8\n",
      "1 x 9 = 9\n",
      "1 x 10 = 10\n",
      "----------\n",
      "2 x 1 = 2\n",
      "2 x 2 = 4\n",
      "2 x 3 = 6\n",
      "2 x 4 = 8\n",
      "2 x 5 = 10\n",
      "2 x 6 = 12\n",
      "2 x 7 = 14\n",
      "2 x 8 = 16\n",
      "2 x 9 = 18\n",
      "2 x 10 = 20\n",
      "----------\n",
      "3 x 1 = 3\n",
      "3 x 2 = 6\n",
      "3 x 3 = 9\n",
      "3 x 4 = 12\n",
      "3 x 5 = 15\n",
      "3 x 6 = 18\n",
      "3 x 7 = 21\n",
      "3 x 8 = 24\n",
      "3 x 9 = 27\n",
      "3 x 10 = 30\n",
      "----------\n"
     ]
    }
   ],
   "source": [
    "for i in range(1, 4):\n",
    "    for j in range(1, 11):\n",
    "        print(f\"{i} x {j} = {i * j}\")\n",
    "    print(\"-\" * 10)"
   ]
  }
 ],
 "metadata": {
  "kernelspec": {
   "display_name": "Python 3",
   "language": "python",
   "name": "python3"
  },
  "language_info": {
   "codemirror_mode": {
    "name": "ipython",
    "version": 3
   },
   "file_extension": ".py",
   "mimetype": "text/x-python",
   "name": "python",
   "nbconvert_exporter": "python",
   "pygments_lexer": "ipython3",
   "version": "3.11.5"
  }
 },
 "nbformat": 4,
 "nbformat_minor": 2
}
