{
 "cells": [
  {
   "cell_type": "markdown",
   "id": "5d05d59f",
   "metadata": {},
   "source": [
    "# Introducción a Python\n",
    "## Funciones y Programación Orientada a Objetos\n",
    "\n",
    "Sesion 2 del curso de verano de Introducción a Python y lógica de programación del Centro de Investigación e Innovación Biomedica e Informatica CIIBI 2024\n",
    "\n",
    ">Instructor: Ing. José Indalecio Ríos"
   ]
  },
  {
   "cell_type": "markdown",
   "id": "34a79b15",
   "metadata": {},
   "source": [
    "### Objetivos de Aprendizaje\n",
    "\n",
    "Al final de este notebook, deberías ser capaz de:\n",
    "- Definir y utilizar funciones en Python, incluyendo funciones con múltiples parámetros y funciones anónimas.\n",
    "- Comprender el alcance de las variables dentro y fuera de las funciones.\n",
    "- Crear y manipular clases y objetos en Python.\n",
    "- Implementar los conceptos de herencia, polimorfismo y encapsulamiento en la programación orientada a objetos.\n",
    "- Resolver ejercicios prácticos que apliquen estos conceptos para reforzar tu comprensión.\n"
   ]
  },
  {
   "cell_type": "markdown",
   "id": "4a9c7bc2",
   "metadata": {},
   "source": [
    "## Funciones en Python\n",
    "\n",
    "En programación, una **función** es un bloque de código que realiza una tarea específica. Una función toma datos de entrada (parámetros), ejecuta una serie de instrucciones, y luego devuelve un resultado (valor de retorno). Las funciones son una parte fundamental de la programación porque permiten organizar y reutilizar el código de manera eficiente."
   ]
  },
  {
   "cell_type": "markdown",
   "id": "0d0f16cb",
   "metadata": {},
   "source": [
    "### Sintaxis"
   ]
  },
  {
   "cell_type": "code",
   "execution_count": 1,
   "id": "aa4f1c6e",
   "metadata": {},
   "outputs": [
    {
     "name": "stdout",
     "output_type": "stream",
     "text": [
      "Hola Mundo\n"
     ]
    }
   ],
   "source": [
    "def mi_funcion():\n",
    "    print(\"Hola Mundo\")\n",
    "\n",
    "# Llamando a la función\n",
    "mi_funcion()"
   ]
  },
  {
   "cell_type": "code",
   "execution_count": 2,
   "id": "e37f35cd",
   "metadata": {},
   "outputs": [
    {
     "name": "stdout",
     "output_type": "stream",
     "text": [
      "Hola Mundo\n",
      "Hola Mundo\n",
      "Hola Mundo\n",
      "Hola Mundo\n",
      "Hola Mundo\n"
     ]
    }
   ],
   "source": [
    "# ejemplo de uso practico\n",
    "\n",
    "for i in range(5):\n",
    "    mi_funcion()"
   ]
  },
  {
   "cell_type": "markdown",
   "id": "0456f574",
   "metadata": {},
   "source": [
    "### Parametros y argumentos"
   ]
  },
  {
   "cell_type": "code",
   "execution_count": 3,
   "id": "baa13bad",
   "metadata": {},
   "outputs": [
    {
     "name": "stdout",
     "output_type": "stream",
     "text": [
      "8\n"
     ]
    }
   ],
   "source": [
    "# Funcion con parametros posicionales\n",
    "def suma(a, b):\n",
    "    print(a + b)\n",
    "\n",
    "suma(3, 5)"
   ]
  },
  {
   "cell_type": "code",
   "execution_count": 4,
   "id": "9b0c4dd1",
   "metadata": {},
   "outputs": [
    {
     "name": "stdout",
     "output_type": "stream",
     "text": [
      "3\n",
      "-2\n"
     ]
    }
   ],
   "source": [
    "#Funcion con parametros con valor por defecto\n",
    "def resta(a, b=0):\n",
    "    print(a - b)\n",
    "\n",
    "resta(3) # solo se pasa un parametro\n",
    "resta(3, 5)     # se pasan los dos parametros"
   ]
  },
  {
   "cell_type": "code",
   "execution_count": 5,
   "id": "ff56cb92",
   "metadata": {},
   "outputs": [
    {
     "name": "stdout",
     "output_type": "stream",
     "text": [
      "15\n"
     ]
    }
   ],
   "source": [
    "#argumentos por nombre\n",
    "def multiplicacion(a, b):\n",
    "    print(a * b)\n",
    "\n",
    "multiplicacion(b=3, a=5) # se pasan los parametros por nombre sin importar el orden"
   ]
  },
  {
   "cell_type": "markdown",
   "id": "97b7bd59",
   "metadata": {},
   "source": [
    "### Retorno de valores"
   ]
  },
  {
   "cell_type": "code",
   "execution_count": 6,
   "id": "9f1d19de",
   "metadata": {},
   "outputs": [
    {
     "name": "stdout",
     "output_type": "stream",
     "text": [
      "6\n"
     ]
    }
   ],
   "source": [
    "#Funcion con retorno\n",
    "def multiplicar(a, b):\n",
    "    return a * b\n",
    "\n",
    "print(multiplicar(2, 3))"
   ]
  },
  {
   "cell_type": "code",
   "execution_count": 7,
   "id": "20d8d54e",
   "metadata": {},
   "outputs": [
    {
     "name": "stdout",
     "output_type": "stream",
     "text": [
      "5.0\n"
     ]
    }
   ],
   "source": [
    "# asignando el retorno a una variable\n",
    "\n",
    "def dividir(a, b):\n",
    "    return a / b\n",
    "\n",
    "resultado = dividir(10, 2)\n",
    "\n",
    "print(resultado)"
   ]
  },
  {
   "cell_type": "code",
   "execution_count": 8,
   "id": "1decf6e4",
   "metadata": {},
   "outputs": [
    {
     "name": "stdout",
     "output_type": "stream",
     "text": [
      "(12, 8, 20, 5.0)\n",
      "<class 'tuple'>\n",
      "12\n",
      "8\n",
      "20\n",
      "5.0\n"
     ]
    }
   ],
   "source": [
    "#multiples retornos\n",
    "\n",
    "def operaciones(a, b):\n",
    "    suma = a + b\n",
    "    resta = a - b\n",
    "    multiplicacion = a * b\n",
    "    division = a / b\n",
    "\n",
    "    return suma, resta, multiplicacion, division\n",
    "\n",
    "resultados = operaciones(10, 2)\n",
    "\n",
    "print(resultados)\n",
    "print(type(resultados))\n",
    "\n",
    "#Desempaquetando los resultados\n",
    "suma, resta, multiplicacion, division = operaciones(10, 2)\n",
    "\n",
    "print(suma)\n",
    "print(resta)\n",
    "print(multiplicacion)\n",
    "print(division)"
   ]
  },
  {
   "cell_type": "markdown",
   "id": "648a9a91",
   "metadata": {},
   "source": [
    "### Variables locales vs globales"
   ]
  },
  {
   "cell_type": "code",
   "execution_count": 9,
   "id": "95c8995d",
   "metadata": {},
   "outputs": [
    {
     "name": "stdout",
     "output_type": "stream",
     "text": [
      "5\n",
      "10\n"
     ]
    }
   ],
   "source": [
    "x = 10  # Variable global: Se puede acceder desde cualquier parte del código excepto en funciones\n",
    "\n",
    "def mostrar_x():\n",
    "    x = 5  # Variable local: Solo se puede acceder dentro de la función, puede tener el mismo nombre que una variable global sin afectarla\n",
    "    print(x)  # Imprime 5\n",
    "\n",
    "mostrar_x()\n",
    "print(x)  # Imprime 10"
   ]
  },
  {
   "cell_type": "markdown",
   "id": "5c700a48",
   "metadata": {},
   "source": [
    "### Declaración global"
   ]
  },
  {
   "cell_type": "code",
   "execution_count": 10,
   "id": "54d5844c",
   "metadata": {},
   "outputs": [
    {
     "name": "stdout",
     "output_type": "stream",
     "text": [
      "6\n",
      "6\n"
     ]
    }
   ],
   "source": [
    "\n",
    "def mostrar_y():\n",
    "    global y  # Se declara como global para poder modificarla\n",
    "    y = 6\n",
    "    print(y)\n",
    "\n",
    "mostrar_y()\n",
    "print(y)  # Imprime 5"
   ]
  },
  {
   "cell_type": "markdown",
   "id": "3538f927",
   "metadata": {},
   "source": [
    "### Documentación de funciones"
   ]
  },
  {
   "cell_type": "code",
   "execution_count": 11,
   "id": "7bcb263c",
   "metadata": {},
   "outputs": [
    {
     "name": "stdout",
     "output_type": "stream",
     "text": [
      "5.0\n"
     ]
    }
   ],
   "source": [
    "#funcion documentada con parametros de entrada y salida\n",
    "\n",
    "def mi_funcion(a, b):\n",
    "    \"\"\"\n",
    "    Esta funcion recibe dos parametros y retorna su suma\n",
    "    :param a: int\n",
    "    :param b: int\n",
    "    :return: float\n",
    "    \"\"\"\n",
    "    return a / b\n",
    "\n",
    "print(mi_funcion(10, 2))\n"
   ]
  },
  {
   "cell_type": "markdown",
   "id": "6f8f0d82",
   "metadata": {},
   "source": [
    "### Multiples retornos"
   ]
  },
  {
   "cell_type": "code",
   "execution_count": 12,
   "id": "77a9ac66",
   "metadata": {},
   "outputs": [],
   "source": [
    "#funcion con multples retornos con condiciones\n",
    "\n",
    "def operaciones(a, b):\n",
    "    if b == 0:\n",
    "        return None\n",
    "    \n",
    "    suma = a + b\n",
    "    resta = a - b\n",
    "    multiplicacion = a * b\n",
    "    division = a / b\n",
    "\n",
    "    return suma, resta, multiplicacion, division"
   ]
  },
  {
   "cell_type": "markdown",
   "id": "5ddbd629",
   "metadata": {},
   "source": [
    "### Funciones Anónimas (lambda)"
   ]
  },
  {
   "cell_type": "code",
   "execution_count": 13,
   "id": "bf581653",
   "metadata": {},
   "outputs": [
    {
     "name": "stdout",
     "output_type": "stream",
     "text": [
      "8\n"
     ]
    }
   ],
   "source": [
    "# Funciones anónimas (lambda)\n",
    "doble = lambda x: x * 2\n",
    "print(doble(4))\n"
   ]
  },
  {
   "cell_type": "markdown",
   "id": "c4474957",
   "metadata": {},
   "source": [
    "## Programación Orientada a Objetos (POO) en Python"
   ]
  },
  {
   "cell_type": "markdown",
   "id": "61f62b01",
   "metadata": {},
   "source": [
    "### Clases, Objetos, Atributos"
   ]
  },
  {
   "cell_type": "code",
   "execution_count": 14,
   "id": "3586acd9",
   "metadata": {},
   "outputs": [
    {
     "name": "stdout",
     "output_type": "stream",
     "text": [
      "Hola Mundo\n",
      "Hola Mundo\n"
     ]
    }
   ],
   "source": [
    "class Mi_clase: # Clase\n",
    "    atributo = \"Hola Mundo\"\n",
    "    def mi_metodo(self):    # Método\n",
    "        print(\"Hola Mundo\") # Cuerpo del método\n",
    "\n",
    "objeto = Mi_clase() # Instancia de la clase tambien llamado objeto\n",
    "objeto.mi_metodo()  # Llamada al método\n",
    "print(objeto.atributo)  # Acceso al atributo"
   ]
  },
  {
   "cell_type": "code",
   "execution_count": 15,
   "id": "5d3bc536",
   "metadata": {},
   "outputs": [
    {
     "name": "stdout",
     "output_type": "stream",
     "text": [
      "5\n"
     ]
    }
   ],
   "source": [
    "\n",
    "class Mi_clase:     # Clase\n",
    "    def __init__(self):    # Constructor\n",
    "        self.variable = 5   # Atributo\n",
    "\n",
    "    def mi_metodo(self):    # Método\n",
    "        print(\"Hola Mundo\") # Acción\n",
    "\n",
    "objeto = Mi_clase() # Crear un objeto\n",
    "\n",
    "print(objeto.variable)  # Acceder a un atributo"
   ]
  },
  {
   "cell_type": "code",
   "execution_count": 16,
   "id": "9985e90d",
   "metadata": {},
   "outputs": [
    {
     "name": "stdout",
     "output_type": "stream",
     "text": [
      "<__main__.Persona object at 0x0000016DE14EDDD0>\n",
      "<class '__main__.Persona'>\n",
      "Juan tiene 30 años.\n"
     ]
    }
   ],
   "source": [
    "# Definición de una clase\n",
    "class Persona:\n",
    "    def __init__(self, nombre, edad):\n",
    "        self.nombre = nombre\n",
    "        self.edad = edad\n",
    "\n",
    "    def describir(self):\n",
    "        return f\"{self.nombre} tiene {self.edad} años.\"\n",
    "\n",
    "# Creación de un objeto\n",
    "persona1 = Persona(\"Juan\", 30)\n",
    "\n",
    "print(persona1)\n",
    "print(type(persona1))\n",
    "\n",
    "print(persona1.describir())\n"
   ]
  },
  {
   "cell_type": "code",
   "execution_count": 17,
   "id": "2acf4d3a",
   "metadata": {},
   "outputs": [
    {
     "name": "stdout",
     "output_type": "stream",
     "text": [
      "Marca: Toyota, Modelo: Corolla, Año: 2020\n",
      "Marca: Chevrolet, Modelo: Spark, Año: 2019\n"
     ]
    }
   ],
   "source": [
    "class carro:\n",
    "    def __init__(self, marca, modelo, anio):\n",
    "        self.marca = marca\n",
    "        self.modelo = modelo\n",
    "        self.anio = anio\n",
    "\n",
    "    def describir(self):\n",
    "        return f\"Marca: {self.marca}, Modelo: {self.modelo}, Año: {self.anio}\"\n",
    "\n",
    "carro1 = carro(\"Toyota\", \"Corolla\", 2020)\n",
    "print(carro1.describir())\n",
    "\n",
    "carro2 = carro(\"Chevrolet\", \"Spark\", 2019)\n",
    "print(carro2.describir())\n"
   ]
  },
  {
   "cell_type": "markdown",
   "id": "729dc3a4",
   "metadata": {},
   "source": [
    "### Difernecia clases y funciones"
   ]
  },
  {
   "cell_type": "code",
   "execution_count": 18,
   "id": "38179ee8",
   "metadata": {},
   "outputs": [
    {
     "name": "stdout",
     "output_type": "stream",
     "text": [
      "<__main__.Mi_clase object at 0x0000016DE14EF190>\n",
      "<__main__.Mi_clase object at 0x0000016DE14EF7D0>\n",
      "False\n",
      "True\n",
      "8\n",
      "8\n",
      "True\n"
     ]
    }
   ],
   "source": [
    "def mi_funcion(a,b):\n",
    "    return a + b\n",
    "\n",
    "class Mi_clase:\n",
    "    def __init__(self, a, b):\n",
    "        self.variable = a + b\n",
    "\n",
    "    def mi_metodo(self):\n",
    "        return self.variable\n",
    "    \n",
    "\n",
    "objeto1 = Mi_clase(3, 5)\n",
    "objeto2 = Mi_clase(3, 5)\n",
    "\n",
    "print(objeto1)\n",
    "print(objeto2)\n",
    "\n",
    "print(objeto1 == objeto2) # el objeto uno y dos son diferentes\n",
    "print(objeto1.mi_metodo() == objeto2.mi_metodo()) # el resultado de los metodos es el mismo\n",
    "\n",
    "variable1 = mi_funcion(3,5)     # se llama a la funcion\n",
    "variable2 = mi_funcion(3,5)     # se llama a la funcion\n",
    "\n",
    "print(variable1)\n",
    "print(variable2)\n",
    "\n",
    "print(variable1 == variable2)   # el resultado de las funciones es el mismo\n"
   ]
  },
  {
   "cell_type": "markdown",
   "id": "ffa9b817",
   "metadata": {},
   "source": [
    "### Herencia\n",
    "\n",
    "La herencia es uno de los pilares fundamentales de la Programación Orientada a Objetos (POO). Permite crear nuevas clases basadas en clases existentes, reutilizando y extendiendo su funcionalidad. Aquí tienes más detalles y ejemplos sobre herencia:\n",
    "\n",
    "Conceptos Clave:\n",
    "\n",
    "- **Clase Base (Padre/Superclase):** Es la clase de la cual otras clases derivan.\n",
    "- **Clase Derivada (Hija/Subclase):** Es la clase que hereda de la clase base.\n",
    "- **Métodos y Atributos Heredados:** Las clases derivadas heredan los métodos y atributos de la clase base.\n",
    "- **Sobreescritura de Métodos:** Las clases derivadas pueden modificar el comportamiento de los métodos heredados."
   ]
  },
  {
   "cell_type": "code",
   "execution_count": 19,
   "id": "07e85f72",
   "metadata": {},
   "outputs": [
    {
     "name": "stdout",
     "output_type": "stream",
     "text": [
      "Guau guau\n",
      "Este es Firulais\n",
      "Miau miau\n",
      "Este es Garfield\n"
     ]
    }
   ],
   "source": [
    "class Animal:   # Clase padre\n",
    "    def __init__(self, nombre): # Constructor\n",
    "        self.nombre = nombre    # Atributo\n",
    "\n",
    "    def sonido(self):   # Método (para este ejemplo no se implementa, puede omitirse)\n",
    "        pass    # pass se utiliza para definir un método vacío\n",
    "\n",
    "    def descripcion(self):\n",
    "        return f\"Este es {self.nombre}\"\n",
    "\n",
    "class Perro(Animal):    # Clase hija\n",
    "    def sonido(self):   # Método\n",
    "        return \"Guau guau\"\n",
    "\n",
    "class Gato(Animal): # Clase hija\n",
    "    def sonido(self):   # Método\n",
    "        return \"Miau miau\"\n",
    "    \n",
    "\n",
    "perro = Perro(\"Firulais\")   # Instancia de la clase Perro\n",
    "gato = Gato(\"Garfield\")     # Instancia de la clase Gato\n",
    "\n",
    "print(perro.sonido())   # Imprime \"Guau guau\" (método de la clase Perro)\n",
    "print(perro.descripcion())  # Imprime \"Este es Firulais\" (método heredado de la clase Animal)\n",
    "\n",
    "print(gato.sonido())    # Imprime \"Miau miau\" (método de la clase Gato)\n",
    "print(gato.descripcion())   # Imprime \"Este es Garfield\" (método heredado de la clase Animal)\n"
   ]
  },
  {
   "cell_type": "code",
   "execution_count": 26,
   "id": "b7ee9f9c",
   "metadata": {},
   "outputs": [
    {
     "name": "stdout",
     "output_type": "stream",
     "text": [
      "Ropa de superheroe\n",
      "2\n",
      "Complexion musculosa\n",
      "Mascara de superheroe\n",
      "Bruce\n"
     ]
    }
   ],
   "source": [
    "class Humano:\n",
    "    def __init__(self,nombre,sexo):\n",
    "        self.nombre = nombre\n",
    "        self.sexo = sexo\n",
    "    \n",
    "    def ropa(self):\n",
    "        return \"Ropa azul\"\n",
    "    \n",
    "    def num_brazos(self):\n",
    "        return 2\n",
    "    \n",
    "    def complexion(self):\n",
    "        return \"Complexion normal\"\n",
    "    \n",
    "class superheroe(Humano):\n",
    "\n",
    "    def nombre_real(self):\n",
    "        return self.nombre\n",
    "    \n",
    "    def complexion(self):\n",
    "        return \"Complexion musculosa\"\n",
    "    \n",
    "    def ropa(self):\n",
    "        return \"Ropa de superheroe\"\n",
    "    \n",
    "    def mascara(self):\n",
    "        return \"Mascara de superheroe\"\n",
    "\n",
    "batman = superheroe(\"Bruce\",\"Hombre\")\n",
    "\n",
    "print(batman.ropa())\n",
    "print(batman.num_brazos())\n",
    "print(batman.complexion())\n",
    "print(batman.mascara())\n",
    "print(batman.nombre_real())\n"
   ]
  },
  {
   "cell_type": "code",
   "execution_count": 21,
   "id": "36c09b53",
   "metadata": {},
   "outputs": [
    {
     "name": "stdout",
     "output_type": "stream",
     "text": [
      "Batman es un murciélago.\n",
      "True\n",
      "Puede volar\n"
     ]
    }
   ],
   "source": [
    "# erencia multiple\n",
    "class Mamifero:\n",
    "    def __init__(self, nombre):\n",
    "        self.nombre = nombre\n",
    "\n",
    "    def tiene_pelo(self):\n",
    "        return True\n",
    "\n",
    "class Volador:\n",
    "    def vuela(self):\n",
    "        return \"Puede volar\"\n",
    "\n",
    "class Murcielago(Mamifero, Volador):\n",
    "    def descripcion(self):\n",
    "        return f\"{self.nombre} es un murciélago.\"\n",
    "    \n",
    "batman = Murcielago(\"Batman\")\n",
    "\n",
    "print(batman.descripcion()) #metodo de la clase murcielago\n",
    "print(batman.tiene_pelo())  #metodo de la clase mamifero\n",
    "print(batman.vuela())    #metodo de la clase volador"
   ]
  },
  {
   "cell_type": "markdown",
   "id": "43e86653",
   "metadata": {},
   "source": [
    "### Polimorfismo\n",
    "\n",
    "El polimorfismo es la capacidad de objetos de diferentes clases para responder al mismo mensaje. En otras palabras, dos objetos de diferentes clases pueden tener métodos con el mismo nombre, y ambos métodos pueden ser llamados con el mismo código, dando respuestas diferentes."
   ]
  },
  {
   "cell_type": "code",
   "execution_count": 22,
   "id": "27286b88",
   "metadata": {},
   "outputs": [
    {
     "name": "stdout",
     "output_type": "stream",
     "text": [
      "Miau\n",
      "Guau\n"
     ]
    }
   ],
   "source": [
    "# Polimorfismo\n",
    "class Gato:\n",
    "    def sonido(self):\n",
    "        return \"Miau\"\n",
    "\n",
    "class Perro:\n",
    "    def sonido(self):\n",
    "        return \"Guau\"\n",
    "\n",
    "def imprimir_sonido(animal):\n",
    "    print(animal.sonido())\n",
    "\n",
    "gato = Gato()\n",
    "perro = Perro()\n",
    "\n",
    "imprimir_sonido(gato)\n",
    "imprimir_sonido(perro)\n"
   ]
  },
  {
   "cell_type": "markdown",
   "id": "b8ebe5ca",
   "metadata": {},
   "source": [
    "### Encapsulamiento\n",
    "\n",
    "Dicho de otra manera, encapsular consiste en hacer que los atributos o métodos internos a una clase no se puedan acceder ni modificar desde fuera, sino que tan solo el propio objeto pueda acceder a ellos."
   ]
  },
  {
   "cell_type": "code",
   "execution_count": 23,
   "id": "8b85e5d5",
   "metadata": {},
   "outputs": [
    {
     "name": "stdout",
     "output_type": "stream",
     "text": [
      "Juan\n",
      "Pedro\n"
     ]
    }
   ],
   "source": [
    "class Persona:\n",
    "    def __init__(self, nombre, edad):\n",
    "        self.__nombre = nombre  # Atributo privado\n",
    "        self.__edad = edad      # Atributo privado\n",
    "\n",
    "    def obtener_nombre(self):  # Método público (getter)\n",
    "        return self.__nombre\n",
    "\n",
    "    def establecer_nombre(self, nombre):  # Método público (setter)\n",
    "        self.__nombre = nombre\n",
    "\n",
    "    def obtener_edad(self):  # Método público (getter)\n",
    "        return self.__edad\n",
    "\n",
    "    def establecer_edad(self, edad):  # Método público (setter)\n",
    "        self.__edad = edad\n",
    "\n",
    "# Crear un objeto de la clase Persona\n",
    "persona1 = Persona(\"Juan\", 30)\n",
    "\n",
    "# Acceder a los atributos privados a través de métodos públicos\n",
    "print(persona1.obtener_nombre())  # Salida: Juan\n",
    "persona1.establecer_nombre(\"Pedro\")\n",
    "print(persona1.obtener_nombre())  # Salida: Pedro\n",
    "\n",
    "#print(Persona.__nombre)\n"
   ]
  },
  {
   "cell_type": "code",
   "execution_count": 24,
   "id": "9e25c733",
   "metadata": {},
   "outputs": [
    {
     "name": "stdout",
     "output_type": "stream",
     "text": [
      "7\n"
     ]
    }
   ],
   "source": [
    "class Calculadora:\n",
    "    def __init__(self):\n",
    "        self.__resultado = 0  # Atributo privado\n",
    "\n",
    "    def __suma(self, a, b):  # Método privado\n",
    "        return a + b\n",
    "\n",
    "    def calcular(self, a, b):\n",
    "        self.__resultado = self.__suma(a, b)\n",
    "        return self.__resultado\n",
    "\n",
    "# Crear un objeto de la clase Calculadora\n",
    "calc = Calculadora()\n",
    "\n",
    "# Acceder al método privado a través de un método público\n",
    "print(calc.calcular(3, 4))  # Salida: 7\n",
    "\n",
    "#print(calc.__resultado) # Error de atributo privado\n",
    "#print(calc.__suma(3, 4)) # Error de metodo privado"
   ]
  },
  {
   "cell_type": "markdown",
   "id": "69e63a74",
   "metadata": {},
   "source": [
    "### Atributos y metodos privados\n",
    "Los métodos privados también se definen utilizando dos guiones bajos (`__`) antes del nombre del método."
   ]
  },
  {
   "cell_type": "code",
   "execution_count": null,
   "id": "6529d0a8",
   "metadata": {},
   "outputs": [],
   "source": [
    "class Calculadora:\n",
    "    def __init__(self):\n",
    "        self.__resultado = 0  # Atributo privado\n",
    "\n",
    "    def __suma(self, a, b):  # Método privado\n",
    "        return a + b\n",
    "\n",
    "    def calcular(self, a, b):\n",
    "        self.__resultado = self.__suma(a, b)\n",
    "        return self.__resultado\n",
    "\n",
    "# Crear un objeto de la clase Calculadora\n",
    "calc = Calculadora()\n",
    "\n",
    "# Acceder al método privado a través de un método público\n",
    "print(calc.calcular(3, 4)) "
   ]
  }
 ],
 "metadata": {
  "kernelspec": {
   "display_name": "Python 3",
   "language": "python",
   "name": "python3"
  },
  "language_info": {
   "codemirror_mode": {
    "name": "ipython",
    "version": 3
   },
   "file_extension": ".py",
   "mimetype": "text/x-python",
   "name": "python",
   "nbconvert_exporter": "python",
   "pygments_lexer": "ipython3",
   "version": "3.11.5"
  }
 },
 "nbformat": 4,
 "nbformat_minor": 5
}
